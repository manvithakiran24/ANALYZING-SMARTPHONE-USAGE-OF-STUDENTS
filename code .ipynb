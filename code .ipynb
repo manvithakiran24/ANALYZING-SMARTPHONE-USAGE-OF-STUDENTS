{
 "cells": [
  {
   "cell_type": "code",
   "execution_count": 18,
   "metadata": {},
   "outputs": [],
   "source": [
    "# Importing the libraries\n",
    "import numpy as np\n",
    "import matplotlib.pyplot as plt\n",
    "import pandas as pd"
   ]
  },
  {
   "cell_type": "code",
   "execution_count": 19,
   "metadata": {},
   "outputs": [
    {
     "name": "stdout",
     "output_type": "stream",
     "text": [
      "(114, 18)\n"
     ]
    }
   ],
   "source": [
    "dataset = pd.read_csv('project1.csv')\n",
    "print(dataset.shape)"
   ]
  },
  {
   "cell_type": "code",
   "execution_count": 20,
   "metadata": {
    "scrolled": false
   },
   "outputs": [
    {
     "data": {
      "text/plain": [
       "Timestamp                                                      object\n",
       "Age :                                                           int64\n",
       "district                                                       object\n",
       "duration of sleep                                             float64\n",
       "maintain regular bed time and wake time?                        int64\n",
       "Do you work out?                                                int64\n",
       "Do you think daily work out boosts our energy?                  int64\n",
       "Do you feel sleepy during the daytime                           int64\n",
       "Do you use electronic gadgets(Digital Screens) before bed?      int64\n",
       "Do you read books before you sleep?                             int64\n",
       "What is the time gap between your dinner and your bedtime?    float64\n",
       "What are your weekend bed timings? (0.of  )                   float64\n",
       "Do you dream while you sleep                                    int64\n",
       "Do you feel sleepy while you study?                           float64\n",
       "Have you ever been awake 24?                                    int64\n",
       "Does being awake 24 or more affect your work life?              int64\n",
       "Do you sleep after your after0n meal?                           int64\n",
       "Do you use your phone immediately after you wake up?            int64\n",
       "dtype: object"
      ]
     },
     "execution_count": 20,
     "metadata": {},
     "output_type": "execute_result"
    }
   ],
   "source": [
    "# Checking data contents\n",
    "\n",
    "dataset.dtypes"
   ]
  },
  {
   "cell_type": "code",
   "execution_count": 21,
   "metadata": {},
   "outputs": [
    {
     "data": {
      "text/html": [
       "<div>\n",
       "<style scoped>\n",
       "    .dataframe tbody tr th:only-of-type {\n",
       "        vertical-align: middle;\n",
       "    }\n",
       "\n",
       "    .dataframe tbody tr th {\n",
       "        vertical-align: top;\n",
       "    }\n",
       "\n",
       "    .dataframe thead th {\n",
       "        text-align: right;\n",
       "    }\n",
       "</style>\n",
       "<table border=\"1\" class=\"dataframe\">\n",
       "  <thead>\n",
       "    <tr style=\"text-align: right;\">\n",
       "      <th></th>\n",
       "      <th>Timestamp</th>\n",
       "      <th>Age :</th>\n",
       "      <th>district</th>\n",
       "      <th>duration of sleep</th>\n",
       "      <th>maintain regular bed time and wake time?</th>\n",
       "      <th>Do you work out?</th>\n",
       "      <th>Do you think daily work out boosts our energy?</th>\n",
       "      <th>Do you feel sleepy during the daytime</th>\n",
       "      <th>Do you use electronic gadgets(Digital Screens) before bed?</th>\n",
       "      <th>Do you read books before you sleep?</th>\n",
       "      <th>What is the time gap between your dinner and your bedtime?</th>\n",
       "      <th>What are your weekend bed timings? (0.of  )</th>\n",
       "      <th>Do you dream while you sleep</th>\n",
       "      <th>Do you feel sleepy while you study?</th>\n",
       "      <th>Have you ever been awake 24?</th>\n",
       "      <th>Does being awake 24 or more affect your work life?</th>\n",
       "      <th>Do you sleep after your after0n meal?</th>\n",
       "      <th>Do you use your phone immediately after you wake up?</th>\n",
       "    </tr>\n",
       "  </thead>\n",
       "  <tbody>\n",
       "    <tr>\n",
       "      <th>0</th>\n",
       "      <td>1-30-2023 17:47:26</td>\n",
       "      <td>21</td>\n",
       "      <td>Hyderabad</td>\n",
       "      <td>7.0</td>\n",
       "      <td>0</td>\n",
       "      <td>0</td>\n",
       "      <td>1</td>\n",
       "      <td>0</td>\n",
       "      <td>1</td>\n",
       "      <td>0</td>\n",
       "      <td>1.0</td>\n",
       "      <td>5.0</td>\n",
       "      <td>1</td>\n",
       "      <td>1.0</td>\n",
       "      <td>1</td>\n",
       "      <td>1</td>\n",
       "      <td>0</td>\n",
       "      <td>0</td>\n",
       "    </tr>\n",
       "    <tr>\n",
       "      <th>1</th>\n",
       "      <td>1-30-2023 17:53:11</td>\n",
       "      <td>21</td>\n",
       "      <td>Hyderabad</td>\n",
       "      <td>7.0</td>\n",
       "      <td>0</td>\n",
       "      <td>0</td>\n",
       "      <td>1</td>\n",
       "      <td>2</td>\n",
       "      <td>1</td>\n",
       "      <td>0</td>\n",
       "      <td>2.0</td>\n",
       "      <td>9.0</td>\n",
       "      <td>1</td>\n",
       "      <td>2.0</td>\n",
       "      <td>1</td>\n",
       "      <td>1</td>\n",
       "      <td>0</td>\n",
       "      <td>1</td>\n",
       "    </tr>\n",
       "    <tr>\n",
       "      <th>2</th>\n",
       "      <td>1-30-2023 17:59:35</td>\n",
       "      <td>20</td>\n",
       "      <td>Ranga reddy</td>\n",
       "      <td>8.0</td>\n",
       "      <td>1</td>\n",
       "      <td>0</td>\n",
       "      <td>1</td>\n",
       "      <td>1</td>\n",
       "      <td>1</td>\n",
       "      <td>1</td>\n",
       "      <td>2.0</td>\n",
       "      <td>8.0</td>\n",
       "      <td>1</td>\n",
       "      <td>1.0</td>\n",
       "      <td>1</td>\n",
       "      <td>2</td>\n",
       "      <td>1</td>\n",
       "      <td>1</td>\n",
       "    </tr>\n",
       "    <tr>\n",
       "      <th>3</th>\n",
       "      <td>1-30-2023 18:03:08</td>\n",
       "      <td>21</td>\n",
       "      <td>Ranga reddy</td>\n",
       "      <td>8.0</td>\n",
       "      <td>1</td>\n",
       "      <td>0</td>\n",
       "      <td>1</td>\n",
       "      <td>1</td>\n",
       "      <td>1</td>\n",
       "      <td>0</td>\n",
       "      <td>1.5</td>\n",
       "      <td>8.0</td>\n",
       "      <td>1</td>\n",
       "      <td>1.0</td>\n",
       "      <td>0</td>\n",
       "      <td>1</td>\n",
       "      <td>0</td>\n",
       "      <td>0</td>\n",
       "    </tr>\n",
       "    <tr>\n",
       "      <th>4</th>\n",
       "      <td>1-30-2023 18:03:17</td>\n",
       "      <td>19</td>\n",
       "      <td>Kolkata</td>\n",
       "      <td>10.0</td>\n",
       "      <td>1</td>\n",
       "      <td>0</td>\n",
       "      <td>3</td>\n",
       "      <td>0</td>\n",
       "      <td>1</td>\n",
       "      <td>0</td>\n",
       "      <td>2.0</td>\n",
       "      <td>10.0</td>\n",
       "      <td>2</td>\n",
       "      <td>2.0</td>\n",
       "      <td>1</td>\n",
       "      <td>2</td>\n",
       "      <td>0</td>\n",
       "      <td>0</td>\n",
       "    </tr>\n",
       "  </tbody>\n",
       "</table>\n",
       "</div>"
      ],
      "text/plain": [
       "            Timestamp  Age :      district  duration of sleep  \\\n",
       "0  1-30-2023 17:47:26     21    Hyderabad                 7.0   \n",
       "1  1-30-2023 17:53:11     21    Hyderabad                 7.0   \n",
       "2  1-30-2023 17:59:35     20  Ranga reddy                 8.0   \n",
       "3  1-30-2023 18:03:08     21   Ranga reddy                8.0   \n",
       "4  1-30-2023 18:03:17     19      Kolkata                10.0   \n",
       "\n",
       "   maintain regular bed time and wake time?  Do you work out?  \\\n",
       "0                                         0                 0   \n",
       "1                                         0                 0   \n",
       "2                                         1                 0   \n",
       "3                                         1                 0   \n",
       "4                                         1                 0   \n",
       "\n",
       "   Do you think daily work out boosts our energy?  \\\n",
       "0                                               1   \n",
       "1                                               1   \n",
       "2                                               1   \n",
       "3                                               1   \n",
       "4                                               3   \n",
       "\n",
       "   Do you feel sleepy during the daytime  \\\n",
       "0                                      0   \n",
       "1                                      2   \n",
       "2                                      1   \n",
       "3                                      1   \n",
       "4                                      0   \n",
       "\n",
       "   Do you use electronic gadgets(Digital Screens) before bed?  \\\n",
       "0                                                  1            \n",
       "1                                                  1            \n",
       "2                                                  1            \n",
       "3                                                  1            \n",
       "4                                                  1            \n",
       "\n",
       "   Do you read books before you sleep?  \\\n",
       "0                                    0   \n",
       "1                                    0   \n",
       "2                                    1   \n",
       "3                                    0   \n",
       "4                                    0   \n",
       "\n",
       "   What is the time gap between your dinner and your bedtime?  \\\n",
       "0                                                1.0            \n",
       "1                                                2.0            \n",
       "2                                                2.0            \n",
       "3                                                1.5            \n",
       "4                                                2.0            \n",
       "\n",
       "   What are your weekend bed timings? (0.of  )  Do you dream while you sleep   \\\n",
       "0                                          5.0                              1   \n",
       "1                                          9.0                              1   \n",
       "2                                          8.0                              1   \n",
       "3                                          8.0                              1   \n",
       "4                                         10.0                              2   \n",
       "\n",
       "   Do you feel sleepy while you study?  Have you ever been awake 24?  \\\n",
       "0                                  1.0                             1   \n",
       "1                                  2.0                             1   \n",
       "2                                  1.0                             1   \n",
       "3                                  1.0                             0   \n",
       "4                                  2.0                             1   \n",
       "\n",
       "   Does being awake 24 or more affect your work life?  \\\n",
       "0                                                  1    \n",
       "1                                                  1    \n",
       "2                                                  2    \n",
       "3                                                  1    \n",
       "4                                                  2    \n",
       "\n",
       "   Do you sleep after your after0n meal?  \\\n",
       "0                                      0   \n",
       "1                                      0   \n",
       "2                                      1   \n",
       "3                                      0   \n",
       "4                                      0   \n",
       "\n",
       "   Do you use your phone immediately after you wake up?  \n",
       "0                                                  0     \n",
       "1                                                  1     \n",
       "2                                                  1     \n",
       "3                                                  0     \n",
       "4                                                  0     "
      ]
     },
     "execution_count": 21,
     "metadata": {},
     "output_type": "execute_result"
    }
   ],
   "source": [
    "dataset.head()"
   ]
  },
  {
   "cell_type": "code",
   "execution_count": 7,
   "metadata": {},
   "outputs": [
    {
     "data": {
      "text/plain": [
       "Timestamp                                                     0\n",
       "Age :                                                         0\n",
       "district                                                      0\n",
       "duration of sleep                                             2\n",
       "maintain regular bed time and wake time?                      0\n",
       "Do you work out?                                              0\n",
       "Do you think daily work out boosts our energy?                0\n",
       "Do you feel sleepy during the daytime                         0\n",
       "Do you use electronic gadgets(Digital Screens) before bed?    0\n",
       "Do you read books before you sleep?                           0\n",
       "What is the time gap between your dinner and your bedtime?    3\n",
       "What are your weekend bed timings? (0.of  )                   2\n",
       "Do you dream while you sleep                                  0\n",
       "Do you feel sleepy while you study?                           2\n",
       "Have you ever been awake 24?                                  0\n",
       "Does being awake 24 or more affect your work life?            0\n",
       "Do you sleep after your after0n meal?                         0\n",
       "Do you use your phone immediately after you wake up?          0\n",
       "dtype: int64"
      ]
     },
     "execution_count": 7,
     "metadata": {},
     "output_type": "execute_result"
    }
   ],
   "source": [
    "# Missing values\n",
    "dataset.isnull().sum()"
   ]
  },
  {
   "cell_type": "code",
   "execution_count": 9,
   "metadata": {},
   "outputs": [
    {
     "data": {
      "text/plain": [
       "<matplotlib.axes._subplots.AxesSubplot at 0x1c453d25f70>"
      ]
     },
     "execution_count": 9,
     "metadata": {},
     "output_type": "execute_result"
    },
    {
     "data": {
      "image/png": "[encoded data removed]",
      "text/plain": [
       "<Figure size 432x288 with 1 Axes>"
      ]
     },
     "metadata": {
      "needs_background": "light"
     },
     "output_type": "display_data"
    }
   ],
   "source": [
    "# Missing values plot\n",
    "import seaborn as sns\n",
    "sns.heatmap(dataset.isnull(),yticklabels=False,cbar=False)"
   ]
  },
  {
   "cell_type": "code",
   "execution_count": 24,
   "metadata": {},
   "outputs": [],
   "source": [
    "dataset['duration of sleep'].fillna(value=int(dataset['duration of sleep'].mean(skipna=True)), inplace=True)\n",
    "dataset['What is the time gap between your dinner and your bedtime?'].fillna(value=int(dataset['What is the time gap between your dinner and your bedtime?'].mean(skipna=True)), inplace=True)\n",
    "dataset['What are your weekend bed timings? (0.of  )'].fillna(value=int(dataset['What are your weekend bed timings? (0.of  )'].mean(skipna=True)), inplace=True)\n",
    "dataset['Do you feel sleepy while you study?'].fillna(value=int(dataset['Do you feel sleepy while you study?'].mode()[0]), inplace=True)\n"
   ]
  },
  {
   "cell_type": "code",
   "execution_count": 25,
   "metadata": {},
   "outputs": [
    {
     "data": {
      "text/plain": [
       "<matplotlib.axes._subplots.AxesSubplot at 0x1c8482bdfd0>"
      ]
     },
     "execution_count": 25,
     "metadata": {},
     "output_type": "execute_result"
    },
    {
     "data": {
      "image/png": "[encoded data removed]",
      "text/plain": [
       "<Figure size 432x288 with 1 Axes>"
      ]
     },
     "metadata": {
      "needs_background": "light"
     },
     "output_type": "display_data"
    }
   ],
   "source": [
    "import seaborn as sns\n",
    "sns.heatmap(dataset.isnull(),yticklabels=False,cbar=False)"
   ]
  },
  {
   "cell_type": "code",
   "execution_count": 26,
   "metadata": {},
   "outputs": [
    {
     "data": {
      "image/png": "[encoded data removed]",
      "text/plain": [
       "<Figure size 432x288 with 1 Axes>"
      ]
     },
     "metadata": {
      "needs_background": "light"
     },
     "output_type": "display_data"
    }
   ],
   "source": [
    "# Univariate Plots for Categorical variables\n",
    "dataset['maintain regular bed time and wake time?'].value_counts().plot.bar()\n",
    "#creating percentage of males and females\n",
    "\n",
    "plt.show()"
   ]
  },
  {
   "cell_type": "code",
   "execution_count": 27,
   "metadata": {},
   "outputs": [
    {
     "data": {
      "image/png": "[encoded data removed]",
      "text/plain": [
       "<Figure size 432x288 with 1 Axes>"
      ]
     },
     "metadata": {
      "needs_background": "light"
     },
     "output_type": "display_data"
    }
   ],
   "source": [
    "# Univariate Plots for Categorical variables\n",
    "dataset['Do you work out?'].value_counts().plot.bar()\n",
    "#creating percentage of males and females\n",
    "\n",
    "plt.show()"
   ]
  },
  {
   "cell_type": "code",
   "execution_count": 28,
   "metadata": {},
   "outputs": [
    {
     "data": {
      "image/png": "[encoded data removed]",
      "text/plain": [
       "<Figure size 432x288 with 1 Axes>"
      ]
     },
     "metadata": {
      "needs_background": "light"
     },
     "output_type": "display_data"
    }
   ],
   "source": [
    "# Univariate Plots for Categorical variables\n",
    "dataset['Do you feel sleepy during the daytime'].value_counts().plot.bar()\n",
    "#creating percentage of males and females\n",
    "\n",
    "plt.show()"
   ]
  },
  {
   "cell_type": "code",
   "execution_count": 29,
   "metadata": {},
   "outputs": [
    {
     "data": {
      "image/png": "[encoded data removed]",
      "text/plain": [
       "<Figure size 432x288 with 1 Axes>"
      ]
     },
     "metadata": {
      "needs_background": "light"
     },
     "output_type": "display_data"
    }
   ],
   "source": [
    "# Univariate Plots for Categorical variables\n",
    "dataset['Do you use electronic gadgets(Digital Screens) before bed?'].value_counts().plot.bar()\n",
    "#creating percentage of males and females\n",
    "\n",
    "plt.show()"
   ]
  },
  {
   "cell_type": "code",
   "execution_count": 30,
   "metadata": {},
   "outputs": [
    {
     "data": {
      "image/png": "[encoded data removed]",
      "text/plain": [
       "<Figure size 432x288 with 1 Axes>"
      ]
     },
     "metadata": {
      "needs_background": "light"
     },
     "output_type": "display_data"
    }
   ],
   "source": [
    "# Univariate Plots for Categorical variables\n",
    "dataset['Do you read books before you sleep?'].value_counts().plot.bar()\n",
    "#creating percentage of males and females\n",
    "\n",
    "plt.show()"
   ]
  },
  {
   "cell_type": "code",
   "execution_count": 32,
   "metadata": {},
   "outputs": [
    {
     "data": {
      "image/png": "[encoded data removed]",
      "text/plain": [
       "<Figure size 432x288 with 1 Axes>"
      ]
     },
     "metadata": {
      "needs_background": "light"
     },
     "output_type": "display_data"
    }
   ],
   "source": [
    "# Univariate Plots for Categorical variables\n",
    "dataset['What is the time gap between your dinner and your bedtime?'].value_counts().plot.bar()\n",
    "\n",
    "\n",
    "plt.show()"
   ]
  },
  {
   "cell_type": "code",
   "execution_count": 33,
   "metadata": {},
   "outputs": [
    {
     "data": {
      "image/png": "[encoded data removed]",
      "text/plain": [
       "<Figure size 432x288 with 1 Axes>"
      ]
     },
     "metadata": {
      "needs_background": "light"
     },
     "output_type": "display_data"
    }
   ],
   "source": [
    "# Univariate Plots for Categorical variables\n",
    "dataset['Do you feel sleepy while you study?'].value_counts().plot.bar()\n",
    "#creating percentage of males and females\n",
    "\n",
    "plt.show()"
   ]
  },
  {
   "cell_type": "code",
   "execution_count": 34,
   "metadata": {},
   "outputs": [
    {
     "data": {
      "image/png": "[encoded data removed]",
      "text/plain": [
       "<Figure size 432x288 with 1 Axes>"
      ]
     },
     "metadata": {
      "needs_background": "light"
     },
     "output_type": "display_data"
    }
   ],
   "source": [
    "# Univariate Plots for Categorical variables\n",
    "dataset['Have you ever been awake 24?'].value_counts().plot.bar()\n",
    "#creating percentage of males and females\n",
    "\n",
    "plt.show()"
   ]
  },
  {
   "cell_type": "code",
   "execution_count": 36,
   "metadata": {},
   "outputs": [
    {
     "data": {
      "image/png": "[encoded data removed]",
      "text/plain": [
       "<Figure size 432x288 with 1 Axes>"
      ]
     },
     "metadata": {
      "needs_background": "light"
     },
     "output_type": "display_data"
    }
   ],
   "source": [
    "# Univariate Plots for Categorical variables\n",
    "dataset['Do you sleep after your after0n meal?'].value_counts().plot.bar()\n",
    "#creating percentage of males and females\n",
    "\n",
    "plt.show()"
   ]
  },
  {
   "cell_type": "code",
   "execution_count": 37,
   "metadata": {},
   "outputs": [
    {
     "data": {
      "image/png": "[encoded data removed]",
      "text/plain": [
       "<Figure size 432x288 with 1 Axes>"
      ]
     },
     "metadata": {
      "needs_background": "light"
     },
     "output_type": "display_data"
    }
   ],
   "source": [
    "# Univariate Plots for Categorical variables\n",
    "dataset['Do you use your phone immediately after you wake up?'].value_counts().plot.bar()\n",
    "#creating percentage of males and females\n",
    "\n",
    "plt.show()"
   ]
  },
  {
   "cell_type": "code",
   "execution_count": 39,
   "metadata": {},
   "outputs": [
    {
     "data": {
      "text/plain": [
       "0    85\n",
       "1    29\n",
       "Name: Do you work out?, dtype: int64"
      ]
     },
     "execution_count": 39,
     "metadata": {},
     "output_type": "execute_result"
    }
   ],
   "source": [
    "# Univariate Analysis- categorical variables\n",
    "dataset['Do you work out?'].value_counts()"
   ]
  },
  {
   "cell_type": "code",
   "execution_count": 40,
   "metadata": {},
   "outputs": [
    {
     "data": {
      "text/plain": [
       "1    97\n",
       "3    16\n",
       "4     1\n",
       "Name: Do you think daily work out boosts our energy?, dtype: int64"
      ]
     },
     "execution_count": 40,
     "metadata": {},
     "output_type": "execute_result"
    }
   ],
   "source": [
    "# Univariate Analysis- categorical variables\n",
    "dataset['Do you think daily work out boosts our energy?'].value_counts()"
   ]
  },
  {
   "cell_type": "code",
   "execution_count": 41,
   "metadata": {},
   "outputs": [
    {
     "data": {
      "text/html": [
       "<div>\n",
       "<style scoped>\n",
       "    .dataframe tbody tr th:only-of-type {\n",
       "        vertical-align: middle;\n",
       "    }\n",
       "\n",
       "    .dataframe tbody tr th {\n",
       "        vertical-align: top;\n",
       "    }\n",
       "\n",
       "    .dataframe thead th {\n",
       "        text-align: right;\n",
       "    }\n",
       "</style>\n",
       "<table border=\"1\" class=\"dataframe\">\n",
       "  <thead>\n",
       "    <tr style=\"text-align: right;\">\n",
       "      <th></th>\n",
       "      <th>Age :</th>\n",
       "      <th>duration of sleep</th>\n",
       "      <th>maintain regular bed time and wake time?</th>\n",
       "      <th>Do you work out?</th>\n",
       "      <th>Do you think daily work out boosts our energy?</th>\n",
       "      <th>Do you feel sleepy during the daytime</th>\n",
       "      <th>Do you use electronic gadgets(Digital Screens) before bed?</th>\n",
       "      <th>Do you read books before you sleep?</th>\n",
       "      <th>What is the time gap between your dinner and your bedtime?</th>\n",
       "      <th>What are your weekend bed timings? (0.of  )</th>\n",
       "      <th>Do you dream while you sleep</th>\n",
       "      <th>Do you feel sleepy while you study?</th>\n",
       "      <th>Have you ever been awake 24?</th>\n",
       "      <th>Does being awake 24 or more affect your work life?</th>\n",
       "      <th>Do you sleep after your after0n meal?</th>\n",
       "      <th>Do you use your phone immediately after you wake up?</th>\n",
       "    </tr>\n",
       "  </thead>\n",
       "  <tbody>\n",
       "    <tr>\n",
       "      <th>count</th>\n",
       "      <td>114.000000</td>\n",
       "      <td>114.000000</td>\n",
       "      <td>114.000000</td>\n",
       "      <td>114.000000</td>\n",
       "      <td>114.000000</td>\n",
       "      <td>114.000000</td>\n",
       "      <td>114.000000</td>\n",
       "      <td>114.000000</td>\n",
       "      <td>114.000000</td>\n",
       "      <td>114.000000</td>\n",
       "      <td>114.000000</td>\n",
       "      <td>114.000000</td>\n",
       "      <td>114.000000</td>\n",
       "      <td>114.000000</td>\n",
       "      <td>114.000000</td>\n",
       "      <td>114.000000</td>\n",
       "    </tr>\n",
       "    <tr>\n",
       "      <th>mean</th>\n",
       "      <td>20.429825</td>\n",
       "      <td>7.429825</td>\n",
       "      <td>0.403509</td>\n",
       "      <td>0.254386</td>\n",
       "      <td>1.307018</td>\n",
       "      <td>1.491228</td>\n",
       "      <td>0.912281</td>\n",
       "      <td>0.114035</td>\n",
       "      <td>2.149649</td>\n",
       "      <td>8.728070</td>\n",
       "      <td>1.385965</td>\n",
       "      <td>0.991228</td>\n",
       "      <td>0.491228</td>\n",
       "      <td>1.377193</td>\n",
       "      <td>0.289474</td>\n",
       "      <td>0.701754</td>\n",
       "    </tr>\n",
       "    <tr>\n",
       "      <th>std</th>\n",
       "      <td>3.698766</td>\n",
       "      <td>1.367895</td>\n",
       "      <td>0.492767</td>\n",
       "      <td>0.437438</td>\n",
       "      <td>0.742242</td>\n",
       "      <td>0.694423</td>\n",
       "      <td>0.284135</td>\n",
       "      <td>0.319257</td>\n",
       "      <td>1.406047</td>\n",
       "      <td>2.504103</td>\n",
       "      <td>0.587612</td>\n",
       "      <td>0.644866</td>\n",
       "      <td>0.502130</td>\n",
       "      <td>0.696265</td>\n",
       "      <td>0.455520</td>\n",
       "      <td>0.459508</td>\n",
       "    </tr>\n",
       "    <tr>\n",
       "      <th>min</th>\n",
       "      <td>17.000000</td>\n",
       "      <td>2.000000</td>\n",
       "      <td>0.000000</td>\n",
       "      <td>0.000000</td>\n",
       "      <td>1.000000</td>\n",
       "      <td>0.000000</td>\n",
       "      <td>0.000000</td>\n",
       "      <td>0.000000</td>\n",
       "      <td>0.160000</td>\n",
       "      <td>1.000000</td>\n",
       "      <td>0.000000</td>\n",
       "      <td>0.000000</td>\n",
       "      <td>0.000000</td>\n",
       "      <td>1.000000</td>\n",
       "      <td>0.000000</td>\n",
       "      <td>0.000000</td>\n",
       "    </tr>\n",
       "    <tr>\n",
       "      <th>25%</th>\n",
       "      <td>19.000000</td>\n",
       "      <td>7.000000</td>\n",
       "      <td>0.000000</td>\n",
       "      <td>0.000000</td>\n",
       "      <td>1.000000</td>\n",
       "      <td>1.000000</td>\n",
       "      <td>1.000000</td>\n",
       "      <td>0.000000</td>\n",
       "      <td>1.000000</td>\n",
       "      <td>8.000000</td>\n",
       "      <td>1.000000</td>\n",
       "      <td>1.000000</td>\n",
       "      <td>0.000000</td>\n",
       "      <td>1.000000</td>\n",
       "      <td>0.000000</td>\n",
       "      <td>0.000000</td>\n",
       "    </tr>\n",
       "    <tr>\n",
       "      <th>50%</th>\n",
       "      <td>20.000000</td>\n",
       "      <td>7.000000</td>\n",
       "      <td>0.000000</td>\n",
       "      <td>0.000000</td>\n",
       "      <td>1.000000</td>\n",
       "      <td>2.000000</td>\n",
       "      <td>1.000000</td>\n",
       "      <td>0.000000</td>\n",
       "      <td>2.000000</td>\n",
       "      <td>8.000000</td>\n",
       "      <td>1.000000</td>\n",
       "      <td>1.000000</td>\n",
       "      <td>0.000000</td>\n",
       "      <td>1.000000</td>\n",
       "      <td>0.000000</td>\n",
       "      <td>1.000000</td>\n",
       "    </tr>\n",
       "    <tr>\n",
       "      <th>75%</th>\n",
       "      <td>21.000000</td>\n",
       "      <td>8.000000</td>\n",
       "      <td>1.000000</td>\n",
       "      <td>0.750000</td>\n",
       "      <td>1.000000</td>\n",
       "      <td>2.000000</td>\n",
       "      <td>1.000000</td>\n",
       "      <td>0.000000</td>\n",
       "      <td>3.000000</td>\n",
       "      <td>10.000000</td>\n",
       "      <td>2.000000</td>\n",
       "      <td>1.000000</td>\n",
       "      <td>1.000000</td>\n",
       "      <td>2.000000</td>\n",
       "      <td>1.000000</td>\n",
       "      <td>1.000000</td>\n",
       "    </tr>\n",
       "    <tr>\n",
       "      <th>max</th>\n",
       "      <td>47.000000</td>\n",
       "      <td>12.000000</td>\n",
       "      <td>1.000000</td>\n",
       "      <td>1.000000</td>\n",
       "      <td>4.000000</td>\n",
       "      <td>2.000000</td>\n",
       "      <td>1.000000</td>\n",
       "      <td>1.000000</td>\n",
       "      <td>10.000000</td>\n",
       "      <td>24.000000</td>\n",
       "      <td>2.000000</td>\n",
       "      <td>2.000000</td>\n",
       "      <td>1.000000</td>\n",
       "      <td>4.000000</td>\n",
       "      <td>1.000000</td>\n",
       "      <td>1.000000</td>\n",
       "    </tr>\n",
       "  </tbody>\n",
       "</table>\n",
       "</div>"
      ],
      "text/plain": [
       "            Age :  duration of sleep  \\\n",
       "count  114.000000         114.000000   \n",
       "mean    20.429825           7.429825   \n",
       "std      3.698766           1.367895   \n",
       "min     17.000000           2.000000   \n",
       "25%     19.000000           7.000000   \n",
       "50%     20.000000           7.000000   \n",
       "75%     21.000000           8.000000   \n",
       "max     47.000000          12.000000   \n",
       "\n",
       "       maintain regular bed time and wake time?  Do you work out?  \\\n",
       "count                                114.000000        114.000000   \n",
       "mean                                   0.403509          0.254386   \n",
       "std                                    0.492767          0.437438   \n",
       "min                                    0.000000          0.000000   \n",
       "25%                                    0.000000          0.000000   \n",
       "50%                                    0.000000          0.000000   \n",
       "75%                                    1.000000          0.750000   \n",
       "max                                    1.000000          1.000000   \n",
       "\n",
       "       Do you think daily work out boosts our energy?  \\\n",
       "count                                      114.000000   \n",
       "mean                                         1.307018   \n",
       "std                                          0.742242   \n",
       "min                                          1.000000   \n",
       "25%                                          1.000000   \n",
       "50%                                          1.000000   \n",
       "75%                                          1.000000   \n",
       "max                                          4.000000   \n",
       "\n",
       "       Do you feel sleepy during the daytime  \\\n",
       "count                             114.000000   \n",
       "mean                                1.491228   \n",
       "std                                 0.694423   \n",
       "min                                 0.000000   \n",
       "25%                                 1.000000   \n",
       "50%                                 2.000000   \n",
       "75%                                 2.000000   \n",
       "max                                 2.000000   \n",
       "\n",
       "       Do you use electronic gadgets(Digital Screens) before bed?  \\\n",
       "count                                         114.000000            \n",
       "mean                                            0.912281            \n",
       "std                                             0.284135            \n",
       "min                                             0.000000            \n",
       "25%                                             1.000000            \n",
       "50%                                             1.000000            \n",
       "75%                                             1.000000            \n",
       "max                                             1.000000            \n",
       "\n",
       "       Do you read books before you sleep?  \\\n",
       "count                           114.000000   \n",
       "mean                              0.114035   \n",
       "std                               0.319257   \n",
       "min                               0.000000   \n",
       "25%                               0.000000   \n",
       "50%                               0.000000   \n",
       "75%                               0.000000   \n",
       "max                               1.000000   \n",
       "\n",
       "       What is the time gap between your dinner and your bedtime?  \\\n",
       "count                                         114.000000            \n",
       "mean                                            2.149649            \n",
       "std                                             1.406047            \n",
       "min                                             0.160000            \n",
       "25%                                             1.000000            \n",
       "50%                                             2.000000            \n",
       "75%                                             3.000000            \n",
       "max                                            10.000000            \n",
       "\n",
       "       What are your weekend bed timings? (0.of  )  \\\n",
       "count                                   114.000000   \n",
       "mean                                      8.728070   \n",
       "std                                       2.504103   \n",
       "min                                       1.000000   \n",
       "25%                                       8.000000   \n",
       "50%                                       8.000000   \n",
       "75%                                      10.000000   \n",
       "max                                      24.000000   \n",
       "\n",
       "       Do you dream while you sleep   Do you feel sleepy while you study?  \\\n",
       "count                     114.000000                           114.000000   \n",
       "mean                        1.385965                             0.991228   \n",
       "std                         0.587612                             0.644866   \n",
       "min                         0.000000                             0.000000   \n",
       "25%                         1.000000                             1.000000   \n",
       "50%                         1.000000                             1.000000   \n",
       "75%                         2.000000                             1.000000   \n",
       "max                         2.000000                             2.000000   \n",
       "\n",
       "       Have you ever been awake 24?  \\\n",
       "count                    114.000000   \n",
       "mean                       0.491228   \n",
       "std                        0.502130   \n",
       "min                        0.000000   \n",
       "25%                        0.000000   \n",
       "50%                        0.000000   \n",
       "75%                        1.000000   \n",
       "max                        1.000000   \n",
       "\n",
       "       Does being awake 24 or more affect your work life?  \\\n",
       "count                                         114.000000    \n",
       "mean                                            1.377193    \n",
       "std                                             0.696265    \n",
       "min                                             1.000000    \n",
       "25%                                             1.000000    \n",
       "50%                                             1.000000    \n",
       "75%                                             2.000000    \n",
       "max                                             4.000000    \n",
       "\n",
       "       Do you sleep after your after0n meal?  \\\n",
       "count                             114.000000   \n",
       "mean                                0.289474   \n",
       "std                                 0.455520   \n",
       "min                                 0.000000   \n",
       "25%                                 0.000000   \n",
       "50%                                 0.000000   \n",
       "75%                                 1.000000   \n",
       "max                                 1.000000   \n",
       "\n",
       "       Do you use your phone immediately after you wake up?  \n",
       "count                                         114.000000     \n",
       "mean                                            0.701754     \n",
       "std                                             0.459508     \n",
       "min                                             0.000000     \n",
       "25%                                             0.000000     \n",
       "50%                                             1.000000     \n",
       "75%                                             1.000000     \n",
       "max                                             1.000000     "
      ]
     },
     "execution_count": 41,
     "metadata": {},
     "output_type": "execute_result"
    }
   ],
   "source": [
    "# Continuous VAriables Summary\n",
    "dataset.describe() "
   ]
  },
  {
   "cell_type": "code",
   "execution_count": 42,
   "metadata": {},
   "outputs": [
    {
     "data": {
      "image/png": "[encoded data removed]",
      "text/plain": [
       "<Figure size 432x288 with 1 Axes>"
      ]
     },
     "metadata": {
      "needs_background": "light"
     },
     "output_type": "display_data"
    },
    {
     "name": "stdout",
     "output_type": "stream",
     "text": [
      "Skewness: -0.145863\n",
      "Kurtosis: 4.256987\n"
     ]
    }
   ],
   "source": [
    "# Univariate - Continuous variablke plotys\n",
    "plt.hist(dataset['duration of sleep'])\n",
    "plt.show()\n",
    "print(\"Skewness: %f\" % dataset['duration of sleep'].skew())\n",
    "print(\"Kurtosis: %f\" % dataset['duration of sleep'].kurt())"
   ]
  },
  {
   "cell_type": "code",
   "execution_count": 43,
   "metadata": {},
   "outputs": [
    {
     "data": {
      "image/png": "[encoded data removed]",
      "text/plain": [
       "<Figure size 432x288 with 1 Axes>"
      ]
     },
     "metadata": {
      "needs_background": "light"
     },
     "output_type": "display_data"
    },
    {
     "name": "stdout",
     "output_type": "stream",
     "text": [
      "Skewness: 2.336897\n",
      "Kurtosis: 10.028631\n"
     ]
    }
   ],
   "source": [
    "# Univariate - Continuous variablke plotys\n",
    "plt.hist(dataset['duration of sleep'])\n",
    "plt.show()\n",
    "print(\"Skewness: %f\" % dataset['What is the time gap between your dinner and your bedtime?'].skew())\n",
    "print(\"Kurtosis: %f\" % dataset['What is the time gap between your dinner and your bedtime?'].kurt())"
   ]
  },
  {
   "cell_type": "code",
   "execution_count": 46,
   "metadata": {},
   "outputs": [
    {
     "data": {
      "image/png": "[encoded data removed]",
      "text/plain": [
       "<Figure size 432x288 with 1 Axes>"
      ]
     },
     "metadata": {
      "needs_background": "light"
     },
     "output_type": "display_data"
    },
    {
     "name": "stdout",
     "output_type": "stream",
     "text": [
      "Skewness: 1.481947\n",
      "Kurtosis: 12.197786\n"
     ]
    }
   ],
   "source": [
    "# Univariate - Continuous variablke plotys\n",
    "plt.hist(dataset['What are your weekend bed timings? (0.of  )'])\n",
    "plt.show()\n",
    "print(\"Skewness: %f\" % dataset['What are your weekend bed timings? (0.of  )'].skew())\n",
    "print(\"Kurtosis: %f\" % dataset['What are your weekend bed timings? (0.of  )'].kurt())"
   ]
  },
  {
   "cell_type": "code",
   "execution_count": 47,
   "metadata": {},
   "outputs": [
    {
     "data": {
      "image/png": "[encoded data removed]",
      "text/plain": [
       "<Figure size 432x288 with 1 Axes>"
      ]
     },
     "metadata": {
      "needs_background": "light"
     },
     "output_type": "display_data"
    }
   ],
   "source": [
    "# Box plot\n",
    "plt.boxplot(dataset['What is the time gap between your dinner and your bedtime?'])\n",
    "plt.show()"
   ]
  },
  {
   "cell_type": "code",
   "execution_count": 48,
   "metadata": {},
   "outputs": [],
   "source": [
    "dataset.loc[dataset['What is the time gap between your dinner and your bedtime?']>dataset['What is the time gap between your dinner and your bedtime?'].quantile(0.95),['What is the time gap between your dinner and your bedtime?']]=dataset['What is the time gap between your dinner and your bedtime?'].quantile(0.95)"
   ]
  },
  {
   "cell_type": "code",
   "execution_count": 49,
   "metadata": {},
   "outputs": [
    {
     "data": {
      "image/png": "[encoded data removed]",
      "text/plain": [
       "<Figure size 432x288 with 1 Axes>"
      ]
     },
     "metadata": {
      "needs_background": "light"
     },
     "output_type": "display_data"
    }
   ],
   "source": [
    "plt.boxplot(dataset['What is the time gap between your dinner and your bedtime?'])\n",
    "plt.show()"
   ]
  },
  {
   "cell_type": "code",
   "execution_count": 51,
   "metadata": {},
   "outputs": [
    {
     "data": {
      "image/png": "[encoded data removed]",
      "text/plain": [
       "<Figure size 432x288 with 1 Axes>"
      ]
     },
     "metadata": {
      "needs_background": "light"
     },
     "output_type": "display_data"
    }
   ],
   "source": [
    "# Box plot\n",
    "plt.boxplot(dataset['What are your weekend bed timings? (0.of  )'])\n",
    "plt.show()"
   ]
  },
  {
   "cell_type": "code",
   "execution_count": 52,
   "metadata": {},
   "outputs": [],
   "source": [
    "dataset.loc[dataset['What are your weekend bed timings? (0.of  )']]=dataset['What are your weekend bed timings? (0.of  )'].quantile(0.05)"
   ]
  },
  {
   "cell_type": "code",
   "execution_count": 54,
   "metadata": {},
   "outputs": [
    {
     "data": {
      "image/png": "[encoded data removed]",
      "text/plain": [
       "<Figure size 432x288 with 1 Axes>"
      ]
     },
     "metadata": {
      "needs_background": "light"
     },
     "output_type": "display_data"
    }
   ],
   "source": [
    "# Box plot\n",
    "plt.boxplot(dataset['What are your weekend bed timings? (0.of  )'])\n",
    "plt.show()"
   ]
  },
  {
   "cell_type": "code",
   "execution_count": 55,
   "metadata": {},
   "outputs": [],
   "source": [
    "dataset.loc[dataset['What are your weekend bed timings? (0.of  )']]=dataset['What are your weekend bed timings? (0.of  )'].quantile(0.95)"
   ]
  },
  {
   "cell_type": "code",
   "execution_count": 56,
   "metadata": {},
   "outputs": [
    {
     "data": {
      "text/html": [
       "<div>\n",
       "<style scoped>\n",
       "    .dataframe tbody tr th:only-of-type {\n",
       "        vertical-align: middle;\n",
       "    }\n",
       "\n",
       "    .dataframe tbody tr th {\n",
       "        vertical-align: top;\n",
       "    }\n",
       "\n",
       "    .dataframe thead th {\n",
       "        text-align: right;\n",
       "    }\n",
       "</style>\n",
       "<table border=\"1\" class=\"dataframe\">\n",
       "  <thead>\n",
       "    <tr style=\"text-align: right;\">\n",
       "      <th>maintain regular bed time and wake time?</th>\n",
       "      <th>0.0</th>\n",
       "      <th>1.0</th>\n",
       "      <th>12.0</th>\n",
       "      <th>All</th>\n",
       "    </tr>\n",
       "    <tr>\n",
       "      <th>Do you work out?</th>\n",
       "      <th></th>\n",
       "      <th></th>\n",
       "      <th></th>\n",
       "      <th></th>\n",
       "    </tr>\n",
       "  </thead>\n",
       "  <tbody>\n",
       "    <tr>\n",
       "      <th>0.0</th>\n",
       "      <td>46</td>\n",
       "      <td>29</td>\n",
       "      <td>0</td>\n",
       "      <td>75</td>\n",
       "    </tr>\n",
       "    <tr>\n",
       "      <th>1.0</th>\n",
       "      <td>15</td>\n",
       "      <td>11</td>\n",
       "      <td>0</td>\n",
       "      <td>26</td>\n",
       "    </tr>\n",
       "    <tr>\n",
       "      <th>12.0</th>\n",
       "      <td>0</td>\n",
       "      <td>0</td>\n",
       "      <td>13</td>\n",
       "      <td>13</td>\n",
       "    </tr>\n",
       "    <tr>\n",
       "      <th>All</th>\n",
       "      <td>61</td>\n",
       "      <td>40</td>\n",
       "      <td>13</td>\n",
       "      <td>114</td>\n",
       "    </tr>\n",
       "  </tbody>\n",
       "</table>\n",
       "</div>"
      ],
      "text/plain": [
       "maintain regular bed time and wake time?  0.0  1.0  12.0  All\n",
       "Do you work out?                                             \n",
       "0.0                                        46   29     0   75\n",
       "1.0                                        15   11     0   26\n",
       "12.0                                        0    0    13   13\n",
       "All                                        61   40    13  114"
      ]
     },
     "execution_count": 56,
     "metadata": {},
     "output_type": "execute_result"
    }
   ],
   "source": [
    "# Bi variate Categorical VS Categorical\n",
    "ct=pd.crosstab(dataset['Do you work out?'],dataset['maintain regular bed time and wake time?'],margins=True)\n",
    "ct"
   ]
  },
  {
   "cell_type": "code",
   "execution_count": 57,
   "metadata": {},
   "outputs": [
    {
     "name": "stdout",
     "output_type": "stream",
     "text": [
      "[[ 40.13157895  26.31578947   8.55263158  75.        ]\n",
      " [ 13.9122807    9.12280702   2.96491228  26.        ]\n",
      " [  6.95614035   4.56140351   1.48245614  13.        ]\n",
      " [ 61.          40.          13.         114.        ]]\n",
      "114.12078058007569\n",
      "2.1256707712739045e-20\n",
      "p value is 2.1256707712739045e-20\n",
      "Dependent (reject H0)\n"
     ]
    }
   ],
   "source": [
    "from scipy.stats import chi2_contingency\n",
    "from scipy.stats import chi2\n",
    "  \n",
    "ct=pd.crosstab(dataset['Do you work out?'],dataset['maintain regular bed time and wake time?'],margins=True)\n",
    "ct\n",
    "\n",
    "stat, p, dof, expected = chi2_contingency(ct)\n",
    "print(expected)\n",
    "print(stat)\n",
    "print(p) \n",
    "# interpret p-value\n",
    "alpha = 0.05\n",
    "print(\"p value is \" + str(p))\n",
    "if p <= alpha:\n",
    "    print('Dependent (reject H0)')\n",
    "else:\n",
    "    print('Independent (H0 holds true)')"
   ]
  },
  {
   "cell_type": "code",
   "execution_count": 58,
   "metadata": {},
   "outputs": [
    {
     "data": {
      "text/html": [
       "<div>\n",
       "<style scoped>\n",
       "    .dataframe tbody tr th:only-of-type {\n",
       "        vertical-align: middle;\n",
       "    }\n",
       "\n",
       "    .dataframe tbody tr th {\n",
       "        vertical-align: top;\n",
       "    }\n",
       "\n",
       "    .dataframe thead th {\n",
       "        text-align: right;\n",
       "    }\n",
       "</style>\n",
       "<table border=\"1\" class=\"dataframe\">\n",
       "  <thead>\n",
       "    <tr style=\"text-align: right;\">\n",
       "      <th>Do you use electronic gadgets(Digital Screens) before bed?</th>\n",
       "      <th>0.0</th>\n",
       "      <th>1.0</th>\n",
       "      <th>12.0</th>\n",
       "      <th>All</th>\n",
       "    </tr>\n",
       "    <tr>\n",
       "      <th>Do you feel sleepy during the daytime</th>\n",
       "      <th></th>\n",
       "      <th></th>\n",
       "      <th></th>\n",
       "      <th></th>\n",
       "    </tr>\n",
       "  </thead>\n",
       "  <tbody>\n",
       "    <tr>\n",
       "      <th>0.0</th>\n",
       "      <td>1</td>\n",
       "      <td>10</td>\n",
       "      <td>0</td>\n",
       "      <td>11</td>\n",
       "    </tr>\n",
       "    <tr>\n",
       "      <th>1.0</th>\n",
       "      <td>1</td>\n",
       "      <td>25</td>\n",
       "      <td>0</td>\n",
       "      <td>26</td>\n",
       "    </tr>\n",
       "    <tr>\n",
       "      <th>2.0</th>\n",
       "      <td>8</td>\n",
       "      <td>56</td>\n",
       "      <td>0</td>\n",
       "      <td>64</td>\n",
       "    </tr>\n",
       "    <tr>\n",
       "      <th>12.0</th>\n",
       "      <td>0</td>\n",
       "      <td>0</td>\n",
       "      <td>13</td>\n",
       "      <td>13</td>\n",
       "    </tr>\n",
       "    <tr>\n",
       "      <th>All</th>\n",
       "      <td>10</td>\n",
       "      <td>91</td>\n",
       "      <td>13</td>\n",
       "      <td>114</td>\n",
       "    </tr>\n",
       "  </tbody>\n",
       "</table>\n",
       "</div>"
      ],
      "text/plain": [
       "Do you use electronic gadgets(Digital Screens) before bed?  0.0  1.0  12.0  \\\n",
       "Do you feel sleepy during the daytime                                        \n",
       "0.0                                                           1   10     0   \n",
       "1.0                                                           1   25     0   \n",
       "2.0                                                           8   56     0   \n",
       "12.0                                                          0    0    13   \n",
       "All                                                          10   91    13   \n",
       "\n",
       "Do you use electronic gadgets(Digital Screens) before bed?  All  \n",
       "Do you feel sleepy during the daytime                            \n",
       "0.0                                                          11  \n",
       "1.0                                                          26  \n",
       "2.0                                                          64  \n",
       "12.0                                                         13  \n",
       "All                                                         114  "
      ]
     },
     "execution_count": 58,
     "metadata": {},
     "output_type": "execute_result"
    }
   ],
   "source": [
    "# Bi variate Categorical VS Categorical\n",
    "ct=pd.crosstab(dataset['Do you feel sleepy during the daytime'],dataset['Do you use electronic gadgets(Digital Screens) before bed?'],margins=True)\n",
    "ct"
   ]
  },
  {
   "cell_type": "code",
   "execution_count": 59,
   "metadata": {},
   "outputs": [
    {
     "name": "stdout",
     "output_type": "stream",
     "text": [
      "[[  0.96491228   8.78070175   1.25438596  11.        ]\n",
      " [  2.28070175  20.75438596   2.96491228  26.        ]\n",
      " [  5.61403509  51.0877193    7.29824561  64.        ]\n",
      " [  1.14035088  10.37719298   1.48245614  13.        ]\n",
      " [ 10.          91.          13.         114.        ]]\n",
      "115.76216860063015\n",
      "4.310792895079417e-19\n",
      "p value is 4.310792895079417e-19\n",
      "Dependent (reject H0)\n"
     ]
    }
   ],
   "source": [
    "from scipy.stats import chi2_contingency\n",
    "from scipy.stats import chi2\n",
    "  \n",
    "ct=pd.crosstab(dataset['Do you feel sleepy during the daytime'],dataset['Do you use electronic gadgets(Digital Screens) before bed?'],margins=True)\n",
    "ct\n",
    "\n",
    "stat, p, dof, expected = chi2_contingency(ct)\n",
    "print(expected)\n",
    "print(stat)\n",
    "print(p) \n",
    "# interpret p-value\n",
    "alpha = 0.05\n",
    "print(\"p value is \" + str(p))\n",
    "if p <= alpha:\n",
    "    print('Dependent (reject H0)')\n",
    "else:\n",
    "    print('Independent (H0 holds true)')"
   ]
  },
  {
   "cell_type": "code",
   "execution_count": 60,
   "metadata": {},
   "outputs": [
    {
     "data": {
      "text/html": [
       "<div>\n",
       "<style scoped>\n",
       "    .dataframe tbody tr th:only-of-type {\n",
       "        vertical-align: middle;\n",
       "    }\n",
       "\n",
       "    .dataframe tbody tr th {\n",
       "        vertical-align: top;\n",
       "    }\n",
       "\n",
       "    .dataframe thead th {\n",
       "        text-align: right;\n",
       "    }\n",
       "</style>\n",
       "<table border=\"1\" class=\"dataframe\">\n",
       "  <thead>\n",
       "    <tr style=\"text-align: right;\">\n",
       "      <th>Have you ever been awake 24?</th>\n",
       "      <th>0.0</th>\n",
       "      <th>1.0</th>\n",
       "      <th>12.0</th>\n",
       "      <th>All</th>\n",
       "    </tr>\n",
       "    <tr>\n",
       "      <th>Do you feel sleepy during the daytime</th>\n",
       "      <th></th>\n",
       "      <th></th>\n",
       "      <th></th>\n",
       "      <th></th>\n",
       "    </tr>\n",
       "  </thead>\n",
       "  <tbody>\n",
       "    <tr>\n",
       "      <th>0.0</th>\n",
       "      <td>4</td>\n",
       "      <td>7</td>\n",
       "      <td>0</td>\n",
       "      <td>11</td>\n",
       "    </tr>\n",
       "    <tr>\n",
       "      <th>1.0</th>\n",
       "      <td>14</td>\n",
       "      <td>12</td>\n",
       "      <td>0</td>\n",
       "      <td>26</td>\n",
       "    </tr>\n",
       "    <tr>\n",
       "      <th>2.0</th>\n",
       "      <td>35</td>\n",
       "      <td>29</td>\n",
       "      <td>0</td>\n",
       "      <td>64</td>\n",
       "    </tr>\n",
       "    <tr>\n",
       "      <th>12.0</th>\n",
       "      <td>0</td>\n",
       "      <td>0</td>\n",
       "      <td>13</td>\n",
       "      <td>13</td>\n",
       "    </tr>\n",
       "    <tr>\n",
       "      <th>All</th>\n",
       "      <td>53</td>\n",
       "      <td>48</td>\n",
       "      <td>13</td>\n",
       "      <td>114</td>\n",
       "    </tr>\n",
       "  </tbody>\n",
       "</table>\n",
       "</div>"
      ],
      "text/plain": [
       "Have you ever been awake 24?           0.0  1.0  12.0  All\n",
       "Do you feel sleepy during the daytime                     \n",
       "0.0                                      4    7     0   11\n",
       "1.0                                     14   12     0   26\n",
       "2.0                                     35   29     0   64\n",
       "12.0                                     0    0    13   13\n",
       "All                                     53   48    13  114"
      ]
     },
     "execution_count": 60,
     "metadata": {},
     "output_type": "execute_result"
    }
   ],
   "source": [
    "# Bi variate Categorical VS Categorical\n",
    "ct=pd.crosstab(dataset['Do you feel sleepy during the daytime'],dataset['Have you ever been awake 24?'],margins=True)\n",
    "ct"
   ]
  },
  {
   "cell_type": "code",
   "execution_count": 61,
   "metadata": {},
   "outputs": [
    {
     "name": "stdout",
     "output_type": "stream",
     "text": [
      "[[  5.11403509   4.63157895   1.25438596  11.        ]\n",
      " [ 12.0877193   10.94736842   2.96491228  26.        ]\n",
      " [ 29.75438596  26.94736842   7.29824561  64.        ]\n",
      " [  6.04385965   5.47368421   1.48245614  13.        ]\n",
      " [ 53.          48.          13.         114.        ]]\n",
      "115.45622593061421\n",
      "4.958494853114047e-19\n",
      "p value is 4.958494853114047e-19\n",
      "Dependent (reject H0)\n"
     ]
    }
   ],
   "source": [
    "from scipy.stats import chi2_contingency\n",
    "from scipy.stats import chi2\n",
    "  \n",
    "ct=pd.crosstab(dataset['Do you feel sleepy during the daytime'],dataset['Have you ever been awake 24?'],margins=True)\n",
    "ct\n",
    "\n",
    "stat, p, dof, expected = chi2_contingency(ct)\n",
    "print(expected)\n",
    "print(stat)\n",
    "print(p) \n",
    "# interpret p-value\n",
    "alpha = 0.05\n",
    "print(\"p value is \" + str(p))\n",
    "if p <= alpha:\n",
    "    print('Dependent (reject H0)')\n",
    "else:\n",
    "    print('Independent (H0 holds true)')"
   ]
  },
  {
   "cell_type": "code",
   "execution_count": 62,
   "metadata": {},
   "outputs": [
    {
     "data": {
      "text/html": [
       "<div>\n",
       "<style scoped>\n",
       "    .dataframe tbody tr th:only-of-type {\n",
       "        vertical-align: middle;\n",
       "    }\n",
       "\n",
       "    .dataframe tbody tr th {\n",
       "        vertical-align: top;\n",
       "    }\n",
       "\n",
       "    .dataframe thead th {\n",
       "        text-align: right;\n",
       "    }\n",
       "</style>\n",
       "<table border=\"1\" class=\"dataframe\">\n",
       "  <thead>\n",
       "    <tr style=\"text-align: right;\">\n",
       "      <th>Do you use your phone immediately after you wake up?</th>\n",
       "      <th>0.0</th>\n",
       "      <th>1.0</th>\n",
       "      <th>12.0</th>\n",
       "      <th>All</th>\n",
       "    </tr>\n",
       "    <tr>\n",
       "      <th>Do you use electronic gadgets(Digital Screens) before bed?</th>\n",
       "      <th></th>\n",
       "      <th></th>\n",
       "      <th></th>\n",
       "      <th></th>\n",
       "    </tr>\n",
       "  </thead>\n",
       "  <tbody>\n",
       "    <tr>\n",
       "      <th>0.0</th>\n",
       "      <td>7</td>\n",
       "      <td>3</td>\n",
       "      <td>0</td>\n",
       "      <td>10</td>\n",
       "    </tr>\n",
       "    <tr>\n",
       "      <th>1.0</th>\n",
       "      <td>24</td>\n",
       "      <td>67</td>\n",
       "      <td>0</td>\n",
       "      <td>91</td>\n",
       "    </tr>\n",
       "    <tr>\n",
       "      <th>12.0</th>\n",
       "      <td>0</td>\n",
       "      <td>0</td>\n",
       "      <td>13</td>\n",
       "      <td>13</td>\n",
       "    </tr>\n",
       "    <tr>\n",
       "      <th>All</th>\n",
       "      <td>31</td>\n",
       "      <td>70</td>\n",
       "      <td>13</td>\n",
       "      <td>114</td>\n",
       "    </tr>\n",
       "  </tbody>\n",
       "</table>\n",
       "</div>"
      ],
      "text/plain": [
       "Do you use your phone immediately after you wake up?  0.0  1.0  12.0  All\n",
       "Do you use electronic gadgets(Digital Screens) ...                       \n",
       "0.0                                                     7    3     0   10\n",
       "1.0                                                    24   67     0   91\n",
       "12.0                                                    0    0    13   13\n",
       "All                                                    31   70    13  114"
      ]
     },
     "execution_count": 62,
     "metadata": {},
     "output_type": "execute_result"
    }
   ],
   "source": [
    "# Bi variate Categorical VS Categorical\n",
    "ct=pd.crosstab(dataset['Do you use electronic gadgets(Digital Screens) before bed?'],dataset['Do you use your phone immediately after you wake up?'],margins=True)\n",
    "ct"
   ]
  },
  {
   "cell_type": "code",
   "execution_count": 63,
   "metadata": {},
   "outputs": [
    {
     "name": "stdout",
     "output_type": "stream",
     "text": [
      "[[  2.71929825   6.14035088   1.14035088  10.        ]\n",
      " [ 24.74561404  55.87719298  10.37719298  91.        ]\n",
      " [  3.53508772   7.98245614   1.48245614  13.        ]\n",
      " [ 31.          70.          13.         114.        ]]\n",
      "123.09881298425078\n",
      "3.0978651887808576e-22\n",
      "p value is 3.0978651887808576e-22\n",
      "Dependent (reject H0)\n"
     ]
    }
   ],
   "source": [
    "from scipy.stats import chi2_contingency\n",
    "from scipy.stats import chi2\n",
    "  \n",
    "ct=pd.crosstab(dataset['Do you use electronic gadgets(Digital Screens) before bed?'],dataset['Do you use your phone immediately after you wake up?'],margins=True)\n",
    "ct\n",
    "\n",
    "stat, p, dof, expected = chi2_contingency(ct)\n",
    "print(expected)\n",
    "print(stat)\n",
    "print(p) \n",
    "# interpret p-value\n",
    "alpha = 0.05\n",
    "print(\"p value is \" + str(p))\n",
    "if p <= alpha:\n",
    "    print('Dependent (reject H0)')\n",
    "else:\n",
    "    print('Independent (H0 holds true)')"
   ]
  },
  {
   "cell_type": "code",
   "execution_count": 64,
   "metadata": {},
   "outputs": [
    {
     "data": {
      "text/html": [
       "<div>\n",
       "<style scoped>\n",
       "    .dataframe tbody tr th:only-of-type {\n",
       "        vertical-align: middle;\n",
       "    }\n",
       "\n",
       "    .dataframe tbody tr th {\n",
       "        vertical-align: top;\n",
       "    }\n",
       "\n",
       "    .dataframe thead th {\n",
       "        text-align: right;\n",
       "    }\n",
       "</style>\n",
       "<table border=\"1\" class=\"dataframe\">\n",
       "  <thead>\n",
       "    <tr style=\"text-align: right;\">\n",
       "      <th>Do you use your phone immediately after you wake up?</th>\n",
       "      <th>0.0</th>\n",
       "      <th>1.0</th>\n",
       "      <th>12.0</th>\n",
       "      <th>All</th>\n",
       "    </tr>\n",
       "    <tr>\n",
       "      <th>Do you feel sleepy during the daytime</th>\n",
       "      <th></th>\n",
       "      <th></th>\n",
       "      <th></th>\n",
       "      <th></th>\n",
       "    </tr>\n",
       "  </thead>\n",
       "  <tbody>\n",
       "    <tr>\n",
       "      <th>0.0</th>\n",
       "      <td>4</td>\n",
       "      <td>7</td>\n",
       "      <td>0</td>\n",
       "      <td>11</td>\n",
       "    </tr>\n",
       "    <tr>\n",
       "      <th>1.0</th>\n",
       "      <td>4</td>\n",
       "      <td>22</td>\n",
       "      <td>0</td>\n",
       "      <td>26</td>\n",
       "    </tr>\n",
       "    <tr>\n",
       "      <th>2.0</th>\n",
       "      <td>23</td>\n",
       "      <td>41</td>\n",
       "      <td>0</td>\n",
       "      <td>64</td>\n",
       "    </tr>\n",
       "    <tr>\n",
       "      <th>12.0</th>\n",
       "      <td>0</td>\n",
       "      <td>0</td>\n",
       "      <td>13</td>\n",
       "      <td>13</td>\n",
       "    </tr>\n",
       "    <tr>\n",
       "      <th>All</th>\n",
       "      <td>31</td>\n",
       "      <td>70</td>\n",
       "      <td>13</td>\n",
       "      <td>114</td>\n",
       "    </tr>\n",
       "  </tbody>\n",
       "</table>\n",
       "</div>"
      ],
      "text/plain": [
       "Do you use your phone immediately after you wake up?  0.0  1.0  12.0  All\n",
       "Do you feel sleepy during the daytime                                    \n",
       "0.0                                                     4    7     0   11\n",
       "1.0                                                     4   22     0   26\n",
       "2.0                                                    23   41     0   64\n",
       "12.0                                                    0    0    13   13\n",
       "All                                                    31   70    13  114"
      ]
     },
     "execution_count": 64,
     "metadata": {},
     "output_type": "execute_result"
    }
   ],
   "source": [
    "# Bi variate Categorical VS Categorical\n",
    "ct=pd.crosstab(dataset['Do you feel sleepy during the daytime'],dataset['Do you use your phone immediately after you wake up?'],margins=True)\n",
    "ct"
   ]
  },
  {
   "cell_type": "code",
   "execution_count": 65,
   "metadata": {},
   "outputs": [
    {
     "data": {
      "text/plain": [
       "<matplotlib.axes._subplots.AxesSubplot at 0x1c849027190>"
      ]
     },
     "execution_count": 65,
     "metadata": {},
     "output_type": "execute_result"
    },
    {
     "data": {
      "image/png": "[encoded data removed]",
      "text/plain": [
       "<Figure size 432x288 with 1 Axes>"
      ]
     },
     "metadata": {
      "needs_background": "light"
     },
     "output_type": "display_data"
    }
   ],
   "source": [
    "# Categorical Vs categorical Plts\n",
    "import matplotlib\n",
    "%matplotlib inline\n",
    "ct.iloc[:-1,:-1].plot(kind='bar', stacked=True, color=['red','blue'],grid=False)"
   ]
  },
  {
   "cell_type": "code",
   "execution_count": 67,
   "metadata": {},
   "outputs": [
    {
     "data": {
      "text/plain": [
       "<matplotlib.axes._subplots.AxesSubplot at 0x1c848ff0a60>"
      ]
     },
     "execution_count": 67,
     "metadata": {},
     "output_type": "execute_result"
    },
    {
     "data": {
      "image/png": "[encoded data removed]",
      "text/plain": [
       "<Figure size 432x288 with 1 Axes>"
      ]
     },
     "metadata": {
      "needs_background": "light"
     },
     "output_type": "display_data"
    }
   ],
   "source": [
    "# Bi variate Continuous Vs Continuous\n",
    "\n",
    "#Continuous Vs Continuous\n",
    "dataset.plot('duration of sleep' , 'What are your weekend bed timings? (0.of  )', kind='scatter')\n"
   ]
  },
  {
   "cell_type": "code",
   "execution_count": 68,
   "metadata": {},
   "outputs": [
    {
     "data": {
      "image/png": "[encoded data removed]",
      "text/plain": [
       "<Figure size 432x288 with 1 Axes>"
      ]
     },
     "metadata": {
      "needs_background": "light"
     },
     "output_type": "display_data"
    }
   ],
   "source": [
    "#Categorical-Continuous combination\n",
    "dataset.boxplot(column='duration of sleep', by= 'maintain regular bed time and wake time?')\n",
    "plt.show()"
   ]
  },
  {
   "cell_type": "code",
   "execution_count": 76,
   "metadata": {},
   "outputs": [
    {
     "data": {
      "image/png": "[encoded data removed]",
      "text/plain": [
       "<Figure size 432x288 with 2 Axes>"
      ]
     },
     "metadata": {
      "needs_background": "light"
     },
     "output_type": "display_data"
    }
   ],
   "source": [
    "# Correlation plts\n",
    "import numpy \n",
    "# Multivariate Plots ( Continuous Vs Continuous)\n",
    "dataset1 = dataset[['What are your weekend bed timings? (0.of  )']]\n",
    "names= ['duration of sleep','Age :', 'What are your weekend bed timings? (0.of  )']\n",
    "\n",
    "correlations = dataset1.corr()\n",
    "\n",
    "# plot correlation matrix\n",
    "fig = plt.figure()\n",
    "ax = fig.add_subplot(111)\n",
    "cax = ax.matshow(correlations, vmin=-1, vmax=1)\n",
    "fig.colorbar(cax)\n",
    "ticks = numpy.arange(0,2,1)\n",
    "ax.set_xticks(ticks)\n",
    "ax.set_yticks(ticks)\n",
    "ax.set_xticklabels(names)\n",
    "ax.set_yticklabels(names)\n",
    "plt.show()"
   ]
  },
  {
   "cell_type": "code",
   "execution_count": null,
   "metadata": {},
   "outputs": [],
   "source": [
    "import pandas as pd\n",
    "from scipy.stats import pearsonr\n",
    "corr,p_value=pearsonr(dataset['duration of sleep'],dataset['What are your weekend bed timings? (No.of  )'])\n",
    "print(corr)\n",
    "print(p_value)"
   ]
  },
  {
   "cell_type": "code",
   "execution_count": null,
   "metadata": {},
   "outputs": [],
   "source": [
    "import pandas as pd\n",
    "from scipy.stats import pearsonr\n",
    "corr,p_value=pearsonr(dataset['duration of sleep'],dataset['What is the time gap between your dinner and your bedtime?'])\n",
    "print(corr)\n",
    "print(p_value)"
   ]
  },
  {
   "cell_type": "code",
   "execution_count": 74,
   "metadata": {},
   "outputs": [
    {
     "name": "stdout",
     "output_type": "stream",
     "text": [
      "0.36885431074272157\n",
      "5.385580899397204e-05\n"
     ]
    }
   ],
   "source": [
    "import pandas as pd\n",
    "from scipy.stats import pearsonr\n",
    "corr,p_value=pearsonr(dataset['What are your weekend bed timings? (0.of  )'],dataset['What is the time gap between your dinner and your bedtime?'])\n",
    "print(corr)\n",
    "print(p_value)"
   ]
  },
  {
   "cell_type": "code",
   "execution_count": 71,
   "metadata": {},
   "outputs": [
    {
     "name": "stdout",
     "output_type": "stream",
     "text": [
      "[[  2.99122807   6.75438596   1.25438596  11.        ]\n",
      " [  7.07017544  15.96491228   2.96491228  26.        ]\n",
      " [ 17.40350877  39.29824561   7.29824561  64.        ]\n",
      " [  3.53508772   7.98245614   1.48245614  13.        ]\n",
      " [ 31.          70.          13.         114.        ]]\n",
      "118.35464565676261\n",
      "1.3147318638935106e-19\n",
      "p value is 1.3147318638935106e-19\n",
      "Dependent (reject H0)\n"
     ]
    }
   ],
   "source": [
    "from scipy.stats import chi2_contingency\n",
    "from scipy.stats import chi2\n",
    "  \n",
    "ct=pd.crosstab(dataset['Do you feel sleepy during the daytime'],dataset['Do you use your phone immediately after you wake up?'],margins=True)\n",
    "ct\n",
    "\n",
    "stat, p, dof, expected = chi2_contingency(ct)\n",
    "print(expected)\n",
    "print(stat)\n",
    "print(p) \n",
    "# interpret p-value\n",
    "alpha = 0.05\n",
    "print(\"p value is \" + str(p))\n",
    "if p <= alpha:\n",
    "    print('Dependent (reject H0)')\n",
    "else:\n",
    "    print('Independent (H0 holds true)')"
   ]
  },
  {
   "cell_type": "code",
   "execution_count": 72,
   "metadata": {},
   "outputs": [
    {
     "name": "stdout",
     "output_type": "stream",
     "text": [
      "[[3404, 1139], [4559, 898]]\n",
      "[[3617.5909  925.4091]\n",
      " [4345.4091 1111.5909]]\n",
      "112.91857062096116\n",
      "2.2482100097131755e-26\n"
     ]
    }
   ],
   "source": [
    "from scipy.stats import chi2_contingency\n",
    "from scipy.stats import chi2\n",
    "# contingency table\n",
    "table = [ [3404, 1139],\n",
    "[4559, 898]]\n",
    "print(table)\n",
    "stat, p, dof, expected = chi2_contingency(table)\n",
    "print(expected)\n",
    "print(stat)\n",
    "print(p)"
   ]
  }
 ],
 "metadata": {
  "kernelspec": {
   "display_name": "Python 3",
   "language": "python",
   "name": "python3"
  },
  "language_info": {
   "codemirror_mode": {
    "name": "ipython",
    "version": 3
   },
   "file_extension": ".py",
   "mimetype": "text/x-python",
   "name": "python",
   "nbconvert_exporter": "python",
   "pygments_lexer": "ipython3",
   "version": "3.8.3"
  }
 },
 "nbformat": 4,
 "nbformat_minor": 4
}
